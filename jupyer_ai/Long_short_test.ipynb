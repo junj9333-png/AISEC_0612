{
 "cells": [
  {
   "cell_type": "code",
   "execution_count": null,
   "id": "f3d9f66c-d9c8-4497-8659-d105d77b48ea",
   "metadata": {},
   "outputs": [],
   "source": [
    "import tensorflow as tf # 딥러닝 라이브러리\n",
    "import numpy as np # 다차원 배열 라이브러리\n",
    "import matplotlib.pyplot as plt # 시각화 라이브러리\n",
    "import sklearn # 머신러닝 라이브러리\n",
    "import seaborn as sns # 시각화 고급 라이브러리\n",
    "import pandas as pd # 데이터 분석 라이브러리\n"
   ]
  },
  {
   "cell_type": "code",
   "execution_count": null,
   "id": "115ca245-a8af-4385-a50a-9e6083efa192",
   "metadata": {},
   "outputs": [],
   "source": [
    "data = np.array([1,2,3,4,5,6,7,8,9,10,11,12,13,14,15,16,17,18,19,20])"
   ]
  },
  {
   "cell_type": "code",
   "execution_count": null,
   "id": "37443a0e-6c2e-4260-ad17-135d1a18e31b",
   "metadata": {},
   "outputs": [],
   "source": [
    "def createDatas_rnn(data_arr,time_step=4): # 20개(총개수) 16개(반복횟수) 반복\n",
    "    x_data = [];y_data = []\n",
    "    for i in range(len(data_arr)-time_step):\n",
    "        x_data.append(data_arr[i:time_step+i])\n",
    "        y_data.append(data_arr[time_step+i])\n",
    "    return np.array(x_data),np.array(y_data).reshape(-1,1)\n"
   ]
  },
  {
   "cell_type": "code",
   "execution_count": null,
   "id": "255f582a-dd5c-4598-9d12-0b636c4704ce",
   "metadata": {},
   "outputs": [],
   "source": [
    "x_data,y_data = createDatas_rnn(data)\n",
    "print(x_data.shape)\n",
    "print(y_data.shape)\n",
    "print(x_data[:2])\n",
    "print(y_data[:2])\n",
    "print(x_data[-2:])\n",
    "print(y_data[-2:])"
   ]
  },
  {
   "cell_type": "code",
   "execution_count": null,
   "id": "232d4d91-0e8e-4a7e-b9e0-f1b85b51eec6",
   "metadata": {},
   "outputs": [],
   "source": [
    "TIME_STEP =4\n",
    "from tensorflow.keras import Sequential, Input\n",
    "from tensorflow.keras.layers import SimpleRNN\n",
    "model = Sequential()\n",
    "model.add(Input((TIME_STEP,)))\n",
    "print(model(x_data)[:2])\n",
    "\n"
   ]
  },
  {
   "cell_type": "code",
   "execution_count": null,
   "id": "a83a89ff-1094-496d-bfc1-a66dfeb1c873",
   "metadata": {},
   "outputs": [],
   "source": []
  }
 ],
 "metadata": {
  "kernelspec": {
   "display_name": "Python 3 (ipykernel)",
   "language": "python",
   "name": "python3"
  },
  "language_info": {
   "codemirror_mode": {
    "name": "ipython",
    "version": 3
   },
   "file_extension": ".py",
   "mimetype": "text/x-python",
   "name": "python",
   "nbconvert_exporter": "python",
   "pygments_lexer": "ipython3",
   "version": "3.9.7"
  }
 },
 "nbformat": 4,
 "nbformat_minor": 5
}
